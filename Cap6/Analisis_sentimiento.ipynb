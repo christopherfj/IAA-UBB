{
  "nbformat": 4,
  "nbformat_minor": 0,
  "metadata": {
    "colab": {
      "provenance": []
    },
    "kernelspec": {
      "name": "python3",
      "display_name": "Python 3"
    },
    "language_info": {
      "name": "python"
    }
  },
  "cells": [
    {
      "cell_type": "code",
      "execution_count": null,
      "metadata": {
        "colab": {
          "base_uri": "https://localhost:8080/"
        },
        "id": "WJg6nX4KbZe7",
        "outputId": "f32ec606-c67c-4be9-8b12-2d00e320f3c8"
      },
      "outputs": [
        {
          "output_type": "stream",
          "name": "stdout",
          "text": [
            "Mounted at /content/gdrive/\n",
            "/content/gdrive/My Drive/Clases/2024/Inteligencia artificial\n"
          ]
        }
      ],
      "source": [
        "from google.colab import drive\n",
        "drive.mount('/content/gdrive/', force_remount=True)\n",
        "#Cambiar directorio\n",
        "%cd /content/gdrive/My Drive/Clases/2024/Inteligencia artificial"
      ]
    },
    {
      "cell_type": "code",
      "source": [
        "with open('amazon_cells_labelled.txt', 'r') as a:\n",
        "    data = a.read().split('\\n')[:-1]\n",
        "x = [d.split('\\t')[0] for d in data]\n",
        "x = [t.lower() for t in x]\n",
        "y = [int(d.split('\\t')[1]) for d in data]"
      ],
      "metadata": {
        "id": "FDa01sGlb3IW"
      },
      "execution_count": null,
      "outputs": []
    },
    {
      "cell_type": "code",
      "source": [
        "from sklearn.model_selection import train_test_split\n",
        "SEED = 42\n",
        "X_train, X_test, y_train, y_test = train_test_split(x, y, test_size=0.2, random_state=SEED)"
      ],
      "metadata": {
        "id": "2kWjChYjfGvE"
      },
      "execution_count": null,
      "outputs": []
    },
    {
      "cell_type": "code",
      "source": [
        "from sklearn.feature_extraction.text import TfidfVectorizer\n",
        "vectorizer = TfidfVectorizer()\n",
        "X_train = vectorizer.fit_transform(X_train)\n",
        "X_test = vectorizer.transform(X_test)\n",
        "X_train.shape, X_test.shape"
      ],
      "metadata": {
        "colab": {
          "base_uri": "https://localhost:8080/"
        },
        "id": "xxR0ApDfeufQ",
        "outputId": "284bfc8c-14ed-4e7c-93f7-4a279d428637"
      },
      "execution_count": null,
      "outputs": [
        {
          "output_type": "execute_result",
          "data": {
            "text/plain": [
              "((800, 1630), (200, 1630))"
            ]
          },
          "metadata": {},
          "execution_count": 30
        }
      ]
    },
    {
      "cell_type": "code",
      "source": [
        "from sklearn.neighbors import KNeighborsClassifier\n",
        "knn = KNeighborsClassifier()\n",
        "knn.fit(X_train, y_train)\n",
        "pred = knn.predict(X_test)"
      ],
      "metadata": {
        "id": "iJu5ug9ChknG"
      },
      "execution_count": null,
      "outputs": []
    },
    {
      "cell_type": "code",
      "source": [
        "from sklearn.metrics import accuracy_score\n",
        "accuracy_score(y_test, pred)"
      ],
      "metadata": {
        "colab": {
          "base_uri": "https://localhost:8080/"
        },
        "id": "3nb4MH44iDoX",
        "outputId": "07d45088-41c8-4e87-b490-55af6e9fa909"
      },
      "execution_count": null,
      "outputs": [
        {
          "output_type": "execute_result",
          "data": {
            "text/plain": [
              "0.8"
            ]
          },
          "metadata": {},
          "execution_count": 32
        }
      ]
    },
    {
      "cell_type": "code",
      "source": [
        "from sklearn.metrics import classification_report\n",
        "print(classification_report(y_test, pred))"
      ],
      "metadata": {
        "colab": {
          "base_uri": "https://localhost:8080/"
        },
        "id": "Y0feHNnsiTWt",
        "outputId": "f708e6a3-3015-4755-8c6a-1017901feb36"
      },
      "execution_count": null,
      "outputs": [
        {
          "output_type": "stream",
          "name": "stdout",
          "text": [
            "              precision    recall  f1-score   support\n",
            "\n",
            "           0       0.84      0.70      0.76        93\n",
            "           1       0.77      0.89      0.83       107\n",
            "\n",
            "    accuracy                           0.80       200\n",
            "   macro avg       0.81      0.79      0.80       200\n",
            "weighted avg       0.81      0.80      0.80       200\n",
            "\n"
          ]
        }
      ]
    },
    {
      "cell_type": "code",
      "source": [
        "from sklearn.metrics import confusion_matrix\n",
        "print(confusion_matrix(y_test, pred))"
      ],
      "metadata": {
        "id": "VLOxTBQdiqnK",
        "outputId": "97d1e086-f479-417a-b83c-1ffd908b065b",
        "colab": {
          "base_uri": "https://localhost:8080/"
        }
      },
      "execution_count": null,
      "outputs": [
        {
          "output_type": "stream",
          "name": "stdout",
          "text": [
            "[[65 28]\n",
            " [12 95]]\n"
          ]
        }
      ]
    }
  ]
}