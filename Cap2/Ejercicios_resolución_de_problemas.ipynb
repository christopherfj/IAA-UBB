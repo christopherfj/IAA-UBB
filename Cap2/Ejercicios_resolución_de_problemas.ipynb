{
  "nbformat": 4,
  "nbformat_minor": 0,
  "metadata": {
    "colab": {
      "provenance": [],
      "authorship_tag": "ABX9TyNIaRusM7FTk2ZeG/PfplZe"
    },
    "kernelspec": {
      "name": "python3",
      "display_name": "Python 3"
    },
    "language_info": {
      "name": "python"
    }
  },
  "cells": [
    {
      "cell_type": "code",
      "execution_count": 1,
      "metadata": {
        "colab": {
          "base_uri": "https://localhost:8080/"
        },
        "id": "EJXKl378eRfT",
        "outputId": "e152aedd-1962-478a-bf06-71f05c8ec16c"
      },
      "outputs": [
        {
          "output_type": "stream",
          "name": "stdout",
          "text": [
            "[-10, 1, 2, 5, 10, -1, 0, -1, 50]\n",
            "[-10, -1, -1, 0, 1, 2, 5, 10, 50]\n"
          ]
        }
      ],
      "source": [
        "#P1 (sorted)\n",
        "lista = [-10,1,2,5,10,-1,0,-1,50]\n",
        "print(lista)\n",
        "n = len(lista)\n",
        "\n",
        "for i in range(n-1):\n",
        "    for j in range(i+1,n):\n",
        "        if lista[i]>lista[j]:\n",
        "            aux = lista[i]\n",
        "            lista[i] = lista[j]\n",
        "            lista[j] = aux\n",
        "\n",
        "print(lista)"
      ]
    },
    {
      "cell_type": "code",
      "source": [
        "#P2 (itertools)\n",
        "letras = ['a','b','c']\n",
        "n = len(letras)\n",
        "combinaciones = []\n",
        "for i in range(n):\n",
        "    actual = [letras[i]]\n",
        "    if actual == ['b']:\n",
        "        resto = letras[:i] + letras[i+1:]\n",
        "        combinaciones.append( actual+resto )\n",
        "        combinaciones.append( actual+resto[::-1] )\n",
        "combinaciones"
      ],
      "metadata": {
        "colab": {
          "base_uri": "https://localhost:8080/"
        },
        "id": "fiqd72C1fT4R",
        "outputId": "11e412d5-164c-4c04-95b0-844d3a906998"
      },
      "execution_count": 2,
      "outputs": [
        {
          "output_type": "execute_result",
          "data": {
            "text/plain": [
              "[['b', 'a', 'c'], ['b', 'c', 'a']]"
            ]
          },
          "metadata": {},
          "execution_count": 2
        }
      ]
    },
    {
      "cell_type": "code",
      "source": [
        "#P3 (numpy)\n",
        "import numpy as np\n",
        "import copy\n",
        "\n",
        "def valida_tablero(tablero, n):\n",
        "    for i in range(n):\n",
        "        if np.sum(tablero[i, :]) > 1:\n",
        "            return False\n",
        "    for j in range(n):\n",
        "        if np.sum(tablero[:, j]) > 1:\n",
        "            return False\n",
        "    for d in range(-n + 1, n):\n",
        "        if np.sum(np.diag(tablero, d)) > 1:\n",
        "            return False\n",
        "    flipped_tablero = np.fliplr(tablero)\n",
        "    for d in range(-n + 1, n):\n",
        "        if np.sum(np.diag(flipped_tablero, d)) > 1:\n",
        "            return False\n",
        "    return True\n",
        "\n",
        "n,m = 4,4\n",
        "matriz = np.zeros((n,m))\n",
        "matriz[0,1] = 1 #estado inicial\n",
        "for i in range(n):\n",
        "    for j in range(m):\n",
        "        matriz_aux = copy.deepcopy(matriz)\n",
        "        matriz_aux[i,j] = 1\n",
        "        if valida_tablero(matriz_aux, n):\n",
        "            matriz[i,j] = 1\n",
        "matriz"
      ],
      "metadata": {
        "colab": {
          "base_uri": "https://localhost:8080/"
        },
        "id": "7P8AA_DHtFXM",
        "outputId": "35d32ba2-6579-4684-8268-209eb06d0b63"
      },
      "execution_count": 3,
      "outputs": [
        {
          "output_type": "execute_result",
          "data": {
            "text/plain": [
              "array([[0., 1., 0., 0.],\n",
              "       [0., 0., 0., 1.],\n",
              "       [1., 0., 0., 0.],\n",
              "       [0., 0., 1., 0.]])"
            ]
          },
          "metadata": {},
          "execution_count": 3
        }
      ]
    },
    {
      "cell_type": "code",
      "source": [
        "i#P4 (re)\n",
        "import re\n",
        "p = re.compile(r'\\d{,2}\\-[a-zA-Z]+\\-\\d{,4}')\n",
        "texto = 'El 16-Septiembre-2024 es feriado'\n",
        "re.findall(p,texto)"
      ],
      "metadata": {
        "colab": {
          "base_uri": "https://localhost:8080/"
        },
        "id": "XLVY742Wg8jq",
        "outputId": "c5f4cb3c-59d7-46b5-9d19-0ff1c00d1a6e"
      },
      "execution_count": 4,
      "outputs": [
        {
          "output_type": "execute_result",
          "data": {
            "text/plain": [
              "['16-Septiembre-2024']"
            ]
          },
          "metadata": {},
          "execution_count": 4
        }
      ]
    }
  ]
}