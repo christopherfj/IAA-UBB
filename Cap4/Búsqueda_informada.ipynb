{
  "nbformat": 4,
  "nbformat_minor": 0,
  "metadata": {
    "colab": {
      "provenance": [],
      "authorship_tag": "ABX9TyNZlocu4XpvAJUuGTz/SpnP"
    },
    "kernelspec": {
      "name": "python3",
      "display_name": "Python 3"
    },
    "language_info": {
      "name": "python"
    }
  },
  "cells": [
    {
      "cell_type": "code",
      "source": [
        "#from collections import deque\n",
        "#import networkx as nx\n",
        "import random\n",
        "import numpy as np\n",
        "import heapq\n",
        "import math\n",
        "from matplotlib import pylab\n",
        "seed = 42\n",
        "random.seed(seed)\n",
        "np.random.seed(seed)"
      ],
      "metadata": {
        "id": "LV88BOAAfwtI"
      },
      "execution_count": 1,
      "outputs": []
    },
    {
      "cell_type": "markdown",
      "source": [
        "#Algoritmo GBFS"
      ],
      "metadata": {
        "id": "brIVqGPkAXEJ"
      }
    },
    {
      "cell_type": "code",
      "source": [
        "class Node:\n",
        "    def __init__(self, x, y, cost):\n",
        "        self.x = x\n",
        "        self.y = y\n",
        "        self.cost = cost\n",
        "    def __lt__(self, other):\n",
        "        return self.cost < other.cost\n",
        "\n",
        "def euclidean_distance(x1, y1, x2, y2):\n",
        "    return math.sqrt((x1 - x2)**2 + (y1 - y2)**2)\n",
        "\n",
        "def greedy_best_first_search(grid, start, goal):\n",
        "    rows = len(grid)\n",
        "    cols = len(grid[0])\n",
        "    pq = []\n",
        "    heapq.heappush(pq, Node(start[0], start[1], 0))\n",
        "    visited = set()\n",
        "    visited.add((start[0], start[1]))\n",
        "    directions = [(-1, 0), (1, 0), (0, -1), (0, 1)]\n",
        "    while pq:\n",
        "        current = heapq.heappop(pq)\n",
        "        if (current.x, current.y) == goal:\n",
        "            print(f\"Goal reached at ({current.x}, {current.y})\")\n",
        "            return\n",
        "        for d in directions:\n",
        "            new_x, new_y = current.x + d[0], current.y + d[1]\n",
        "            if 0 <= new_x < rows and 0 <= new_y < cols and grid[new_x][new_y] == 0 and (new_x, new_y) not in visited:\n",
        "                cost = euclidean_distance(new_x, new_y, goal[0], goal[1])\n",
        "                heapq.heappush(pq, Node(new_x, new_y, cost))\n",
        "                visited.add((new_x, new_y))\n",
        "\n",
        "    print(\"Goal not reachable\")\n",
        "\n",
        "grid = np.array([\n",
        "    #[0, 1, 1, 1],\n",
        "    [0, 0, 1, 1],\n",
        "    [1, 0, 1, 1],\n",
        "    [1, 0, 0, 1],\n",
        "    [1, 1, 0, 0]\n",
        "])\n",
        "\n",
        "start = (0, 0)\n",
        "goal = (3, 3)\n",
        "greedy_best_first_search(grid, start, goal)"
      ],
      "metadata": {
        "colab": {
          "base_uri": "https://localhost:8080/"
        },
        "id": "SpTS_vxoAEqb",
        "outputId": "cb7b4366-acde-451c-b3eb-efd4c0c33933"
      },
      "execution_count": 2,
      "outputs": [
        {
          "output_type": "stream",
          "name": "stdout",
          "text": [
            "Goal reached at (3, 3)\n"
          ]
        }
      ]
    },
    {
      "cell_type": "markdown",
      "source": [
        "# Algoritmo A*"
      ],
      "metadata": {
        "id": "k5Y56xet1LzE"
      }
    },
    {
      "cell_type": "code",
      "source": [
        "class Node:\n",
        "    def __init__(self, position, parent=None):\n",
        "        self.position = position\n",
        "        self.parent = parent\n",
        "        self.g = 0  # Distance from start node\n",
        "        self.h = 0  # Heuristic to goal\n",
        "        self.f = 0  # Total cost\n",
        "\n",
        "    def __eq__(self, other):\n",
        "        return self.position == other.position\n",
        "\n",
        "    def __lt__(self, other):\n",
        "        return self.f < other.f\n",
        "\n",
        "    def __repr__(self):\n",
        "        return f\"({self.position}, f: {self.f})\"\n",
        "\n",
        "def heuristic(a, b):\n",
        "    return math.sqrt((a[0] - b[0])**2 + (a[1] - b[1])**2)\n",
        "\n",
        "def astar(maze, start, end):\n",
        "    open_list = []\n",
        "    closed_list = set()\n",
        "    start_node = Node(start)\n",
        "    end_node = Node(end)\n",
        "    heapq.heappush(open_list, start_node)\n",
        "\n",
        "    while open_list:\n",
        "\n",
        "        current_node = heapq.heappop(open_list)\n",
        "\n",
        "        closed_list.add(current_node.position)\n",
        "\n",
        "        if current_node == end_node:\n",
        "            path = []\n",
        "            while current_node:\n",
        "                path.append(current_node.position)\n",
        "                current_node = current_node.parent\n",
        "            return path[::-1]\n",
        "\n",
        "        for new_position in [(0, -1), (0, 1), (-1, 0), (1, 0), (-1, -1), (-1, 1), (1, -1), (1, 1)]:\n",
        "            node_position = (current_node.position[0] + new_position[0], current_node.position[1] + new_position[1])\n",
        "\n",
        "            if node_position[0] > (len(maze) - 1) or node_position[0] < 0 or node_position[1] > (len(maze[len(maze)-1]) - 1) or node_position[1] < 0:\n",
        "                continue\n",
        "\n",
        "            if maze[node_position[0]][node_position[1]] != 0:\n",
        "                continue\n",
        "\n",
        "            new_node = Node(node_position, current_node)\n",
        "\n",
        "            if new_node.position in closed_list:\n",
        "                continue\n",
        "\n",
        "            new_node.g = current_node.g + 1\n",
        "            new_node.h = heuristic(new_node.position, end_node.position)\n",
        "            new_node.f = new_node.g + new_node.h\n",
        "            if add_to_open(open_list, new_node):\n",
        "                heapq.heappush(open_list, new_node)\n",
        "\n",
        "    return None\n",
        "\n",
        "def add_to_open(open_list, neighbor):\n",
        "    for node in open_list:\n",
        "        if neighbor == node and neighbor.g > node.g:\n",
        "            return False\n",
        "    return True\n",
        "\n",
        "maze = np.array([\n",
        "    [0, 1, 0, 0, 0, 0, 0],\n",
        "    [0, 1, 0, 1, 1, 1, 0],\n",
        "    [0, 0, 0, 0, 0, 0, 0],\n",
        "    [0, 1, 1, 1, 1, 1, 0],\n",
        "    [0, 0, 0, 0, 0, 0, 0]\n",
        "])\n",
        "\n",
        "start = (0, 0)\n",
        "end = (4, 6)\n",
        "path = astar(maze, start, end)\n",
        "print(path)"
      ],
      "metadata": {
        "colab": {
          "base_uri": "https://localhost:8080/"
        },
        "id": "tYmiKmoo-0Xa",
        "outputId": "64eec23c-09f3-4a54-f4ad-e8071d2072b7"
      },
      "execution_count": 3,
      "outputs": [
        {
          "output_type": "stream",
          "name": "stdout",
          "text": [
            "[(0, 0), (1, 0), (2, 1), (2, 2), (2, 3), (2, 4), (2, 5), (3, 6), (4, 6)]\n"
          ]
        }
      ]
    }
  ]
}