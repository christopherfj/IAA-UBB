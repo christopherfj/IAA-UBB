{
  "nbformat": 4,
  "nbformat_minor": 0,
  "metadata": {
    "colab": {
      "provenance": [],
      "authorship_tag": "ABX9TyNIaRusM7FTk2ZeG/PfplZe"
    },
    "kernelspec": {
      "name": "python3",
      "display_name": "Python 3"
    },
    "language_info": {
      "name": "python"
    }
  },
  "cells": [
    {
      "cell_type": "code",
      "execution_count": null,
      "metadata": {
        "colab": {
          "base_uri": "https://localhost:8080/"
        },
        "id": "EJXKl378eRfT",
        "outputId": "3321077b-9202-4a53-b262-546fb2a2d4b7"
      },
      "outputs": [
        {
          "output_type": "stream",
          "name": "stdout",
          "text": [
            "[-10, 1, 2, 5, 10, -1, 0, -1, 50]\n",
            "[-10, -1, -1, 0, 1, 2, 5, 10, 50]\n"
          ]
        }
      ],
      "source": [
        "#P1 (sorted)\n",
        "lista = [-10,1,2,5,10,-1,0,-1,50]\n",
        "print(lista)\n",
        "n = len(lista)\n",
        "\n",
        "for i in range(n-1):\n",
        "    for j in range(i+1,n):\n",
        "        if lista[i]>lista[j]:\n",
        "            aux = lista[i]\n",
        "            lista[i] = lista[j]\n",
        "            lista[j] = aux\n",
        "\n",
        "print(lista)"
      ]
    },
    {
      "cell_type": "code",
      "source": [
        "#P2 (itertools)\n",
        "letras = ['a','b','c']\n",
        "n = len(letras)\n",
        "combinaciones = []\n",
        "for i in range(n):\n",
        "    actual = [letras[i]]\n",
        "    if actual == ['b']:\n",
        "        resto = letras[:i] + letras[i+1:]\n",
        "        combinaciones.append( actual+resto )\n",
        "        combinaciones.append( actual+resto[::-1] )\n",
        "combinaciones"
      ],
      "metadata": {
        "colab": {
          "base_uri": "https://localhost:8080/"
        },
        "id": "fiqd72C1fT4R",
        "outputId": "72c3c1a2-9369-492b-e5c9-e9df34b5621a"
      },
      "execution_count": null,
      "outputs": [
        {
          "output_type": "stream",
          "name": "stdout",
          "text": [
            "[] a\n",
            "['a'] b\n",
            "['a', 'b'] c\n"
          ]
        },
        {
          "output_type": "execute_result",
          "data": {
            "text/plain": [
              "[['b', 'a', 'c'], ['b', 'c', 'a']]"
            ]
          },
          "metadata": {},
          "execution_count": 30
        }
      ]
    },
    {
      "cell_type": "code",
      "source": [
        "#P3 (numpy)\n",
        "import numpy as np\n",
        "import copy\n",
        "\n",
        "def valida_tablero(tablero, n):\n",
        "    for i in range(n):\n",
        "        if np.sum(tablero[i, :]) > 1:\n",
        "            return False\n",
        "    for j in range(n):\n",
        "        if np.sum(tablero[:, j]) > 1:\n",
        "            return False\n",
        "    for d in range(-n + 1, n):\n",
        "        if np.sum(np.diag(tablero, d)) > 1:\n",
        "            return False\n",
        "    flipped_tablero = np.fliplr(tablero)\n",
        "    for d in range(-n + 1, n):\n",
        "        if np.sum(np.diag(flipped_tablero, d)) > 1:\n",
        "            return False\n",
        "    return True\n",
        "\n",
        "n,m = 4,4\n",
        "matriz = np.zeros((n,m))\n",
        "matriz[0,1] = 1 #estado inicial\n",
        "for i in range(n):\n",
        "    for j in range(m):\n",
        "        matriz_aux = copy.deepcopy(matriz)\n",
        "        matriz_aux[i,j] = 1\n",
        "        if valida_tablero(matriz_aux, n):\n",
        "            matriz[i,j] = 1\n",
        "matriz"
      ],
      "metadata": {
        "colab": {
          "base_uri": "https://localhost:8080/"
        },
        "id": "7P8AA_DHtFXM",
        "outputId": "f0f7d24f-2c98-4efb-e40a-33b17b1fae41"
      },
      "execution_count": null,
      "outputs": [
        {
          "output_type": "execute_result",
          "data": {
            "text/plain": [
              "array([[0., 1., 0., 0.],\n",
              "       [0., 0., 0., 1.],\n",
              "       [1., 0., 0., 0.],\n",
              "       [0., 0., 1., 0.]])"
            ]
          },
          "metadata": {},
          "execution_count": 46
        }
      ]
    },
    {
      "cell_type": "code",
      "source": [
        "i#P4 (re)\n",
        "import re\n",
        "p = re.compile(r'\\d{,2}\\-[a-zA-Z]+\\-\\d{,4}')\n",
        "texto = 'El 16-Septiembre-2024 es feriado'\n",
        "re.findall(p,texto)"
      ],
      "metadata": {
        "colab": {
          "base_uri": "https://localhost:8080/"
        },
        "id": "XLVY742Wg8jq",
        "outputId": "5cd447c3-833f-4baa-ad76-b37495456c7c"
      },
      "execution_count": null,
      "outputs": [
        {
          "output_type": "execute_result",
          "data": {
            "text/plain": [
              "['16-Septiembre-2024']"
            ]
          },
          "metadata": {},
          "execution_count": 8
        }
      ]
    }
  ]
}